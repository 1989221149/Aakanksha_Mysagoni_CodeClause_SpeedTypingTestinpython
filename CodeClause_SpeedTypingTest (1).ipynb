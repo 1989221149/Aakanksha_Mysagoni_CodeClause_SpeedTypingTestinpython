{
 "cells": [
  {
   "cell_type": "code",
   "execution_count": 1,
   "id": "de8600a8",
   "metadata": {},
   "outputs": [
    {
     "name": "stdout",
     "output_type": "stream",
     "text": [
      "Type the following sentence:\n",
      "Python is a versatile programming language.\n",
      "Press Enter when you're ready to start...\n",
      "Type the sentence: Python is a versatile programming language.\n",
      "Time taken: 11.96 seconds\n",
      "Accuracy: 100.00%\n",
      "Typing speed: 30.09 WPM\n"
     ]
    }
   ],
   "source": [
    "import time\n",
    "\n",
    "def typing_test(sentence):\n",
    "    print(\"Type the following sentence:\")\n",
    "    print(sentence)\n",
    "    \n",
    "    input(\"Press Enter when you're ready to start...\")\n",
    "    \n",
    "    start_time = time.time()\n",
    "    user_input = input(\"Type the sentence: \")\n",
    "    end_time = time.time()\n",
    "    \n",
    "    elapsed_time = end_time - start_time\n",
    "    words = sentence.split()\n",
    "    user_words = user_input.split()\n",
    "    word_count = len(words)\n",
    "    correct_words = 0\n",
    "\n",
    "    for word1, word2 in zip(words, user_words):\n",
    "        if word1 == word2:\n",
    "            correct_words += 1\n",
    "\n",
    "    accuracy = (correct_words / word_count) * 100\n",
    "    wpm = (len(user_words) / elapsed_time) * 60\n",
    "    \n",
    "    print(f\"Time taken: {elapsed_time:.2f} seconds\")\n",
    "    print(f\"Accuracy: {accuracy:.2f}%\")\n",
    "    print(f\"Typing speed: {wpm:.2f} WPM\")\n",
    "\n",
    "if __name__ == \"__main__\":\n",
    "    sentence = \"Python is a versatile programming language.\"\n",
    "    typing_test(sentence)"
   ]
  },
  {
   "cell_type": "code",
   "execution_count": null,
   "id": "ace16b35",
   "metadata": {},
   "outputs": [],
   "source": []
  }
 ],
 "metadata": {
  "kernelspec": {
   "display_name": "Python 3 (ipykernel)",
   "language": "python",
   "name": "python3"
  },
  "language_info": {
   "codemirror_mode": {
    "name": "ipython",
    "version": 3
   },
   "file_extension": ".py",
   "mimetype": "text/x-python",
   "name": "python",
   "nbconvert_exporter": "python",
   "pygments_lexer": "ipython3",
   "version": "3.9.7"
  }
 },
 "nbformat": 4,
 "nbformat_minor": 5
}
